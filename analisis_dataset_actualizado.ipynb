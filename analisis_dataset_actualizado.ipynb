Análisis de Datos de Ventas
· Importar los datos
· Imprimir los primeros diez registros
import pandas as pd

# Importar los datos
df = pd.read_csv('./Datos/American Things - Base de Datos.csv', encoding='latin-1')

# convierte los str formato numero y los errores en NaN
df['Costo'] = pd.to_numeric(df['Costo'], errors='coerce')
df['Ventas'] = pd.to_numeric(df['Ventas'], errors='coerce')
df['Resenia'] = pd.to_numeric(df['Resenia'], errors='coerce')

# Mostrar los primeros 10 registros
print(df.head(10))
· Describir el dataset
print(df.describe(include='all'))
· Análisis de columnas numéricas
numeric_cols = df.select_dtypes(include=['number']).columns

for col in numeric_cols:
    print(f"Análisis de la columna numérica: {col}")
    print(f"Valores válidos sobre el total: {df[col].count()} / {len(df)}")
    print(f"Media: {round(df[col].mean(), 2)}")
    print(f"Mediana: {df[col].median()}")
    print(f"Desviación estándar: {round(df[col].std(), 2)}")
    print(f"Valores ausentes: {df[col].isna().sum()}")
    print(f"Valores mal registrados o erróneos: {df[col].isna().sum() + df[col].isnull().sum()}")
    print("")
· Análisis de columnas categóricas
categorical_cols = df.select_dtypes(include=['object']).columns

for col in categorical_cols:
    print(f"Análisis de la columna categórica: {col}")
    print(df[col].value_counts())
    print(f"Registros válidos sobre el total: {df[col].count()} / {len(df)}")
    print(f"Valores ausentes: {df[col].isna().sum()}")
    print(f"Valores mal registrados o erróneos: {df[col].isna().sum() + df[col].isnull().sum()}")
    print("")
· Análisis de otras variables
other_cols = df.columns.difference(numeric_cols).difference(categorical_cols)

for col in other_cols:
    print(f"Análisis de la columna: {col}")
    print(f"Valores válidos sobre el total: {df[col].count()} / {len(df)}")
    print(f"Valores ausentes: {df[col].isna().sum()}")
    print(f"Valores mal registrados o erróneos: {df[col].isna().sum() + df[col].isnull().sum()}")
    print("")
